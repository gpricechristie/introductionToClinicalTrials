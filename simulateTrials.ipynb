{
  "nbformat": 4,
  "nbformat_minor": 0,
  "metadata": {
    "colab": {
      "provenance": [],
      "authorship_tag": "ABX9TyNs6NsrWcvWgBLNNPtRY3SR",
      "include_colab_link": true
    },
    "kernelspec": {
      "name": "ir",
      "display_name": "R"
    },
    "language_info": {
      "name": "R"
    }
  },
  "cells": [
    {
      "cell_type": "markdown",
      "metadata": {
        "id": "view-in-github",
        "colab_type": "text"
      },
      "source": [
        "<a href=\"https://colab.research.google.com/github/gpricechristie/introductionToClinicalTrials/blob/main/simulateTrials.ipynb\" target=\"_parent\"><img src=\"https://colab.research.google.com/assets/colab-badge.svg\" alt=\"Open In Colab\"/></a>"
      ]
    },
    {
      "cell_type": "markdown",
      "source": [
        "#Simulation of different clinical trial designs\n",
        "Load a simulated cancer pateint population, sample from the population and assess the impact of different designs on the study analysis\n",
        "\n",
        "Basic patient factors in the population are:\n",
        "* Age\n",
        "* Sex\n",
        "* Performance status\n",
        "* Cancer stage\n",
        "* GTV Volume\n"
      ],
      "metadata": {
        "id": "y4gpB7SVj2PE"
      }
    },
    {
      "cell_type": "markdown",
      "source": [
        "Load libraries"
      ],
      "metadata": {
        "id": "7svJTMk_kIgr"
      }
    },
    {
      "cell_type": "code",
      "source": [
        "install.packages(\"ggsurvfit\")\n"
      ],
      "metadata": {
        "id": "CAhkSlApMJKU"
      },
      "execution_count": null,
      "outputs": []
    },
    {
      "cell_type": "code",
      "source": [
        "install.packages(\"table1\")"
      ],
      "metadata": {
        "id": "2z46KYg1iHC9"
      },
      "execution_count": null,
      "outputs": []
    },
    {
      "cell_type": "code",
      "source": [
        "library(survival)\n",
        "library(ggplot2)\n",
        "library(ggsurvfit)\n",
        "library(tidyr)\n",
        "library(table1)\n",
        "library(patchwork)\n",
        "library(dplyr)"
      ],
      "metadata": {
        "id": "-k2KfVG5kHnD"
      },
      "execution_count": null,
      "outputs": []
    },
    {
      "cell_type": "markdown",
      "source": [
        "Load population data"
      ],
      "metadata": {
        "id": "_NDmPuixdxRB"
      }
    },
    {
      "cell_type": "code",
      "source": [
        "population = read.csv('simulatedPopulation.csv')"
      ],
      "metadata": {
        "id": "QBsjP-PLeJmy"
      },
      "execution_count": null,
      "outputs": []
    },
    {
      "cell_type": "markdown",
      "source": [
        "Create demographic table and plot descriptive statistics"
      ],
      "metadata": {
        "id": "R4hcyx7keO2c"
      }
    },
    {
      "cell_type": "code",
      "source": [
        "tab1 = table1(~ age + sex + ps + stage + gtv, population)"
      ],
      "metadata": {
        "id": "KgTiEaUNe4vI"
      },
      "execution_count": null,
      "outputs": []
    },
    {
      "cell_type": "code",
      "source": [
        "p1 = ggplot(population,aes(x=ps)) +\n",
        "  geom_bar(stat='count', fill='blue')\n",
        "p2 = ggplot(population,aes(x=age)) +\n",
        "  geom_histogram(fill='blue',binwidth=2)\n",
        "p3 = ggplot(population,aes(x=stage)) +\n",
        "  geom_bar(stat='count', fill='blue')\n",
        "p4 = ggplot(population,aes(x=gtv)) +\n",
        "  geom_histogram(fill='blue',binwidth=5) +\n",
        "  xlim(c(0,200))\n",
        "p1+p2+p3+p4"
      ],
      "metadata": {
        "id": "Vpi4VGk7foLY"
      },
      "execution_count": null,
      "outputs": []
    },
    {
      "cell_type": "markdown",
      "source": [
        "Set basic parameters\n",
        "\n",
        "\n",
        "*   Number of patients to sample from population (nbrPats)\n",
        "*   Baseline hazard for simulation of survival times (h_0 - uniform as exponential cumulative baseline)\n",
        "\n"
      ],
      "metadata": {
        "id": "hTUBJkqeky4t"
      }
    },
    {
      "cell_type": "code",
      "source": [
        "nbrPats = 1000\n",
        "popSize=nrow(population)\n",
        "h_0=0.001"
      ],
      "metadata": {
        "id": "251mXMLQj-cK"
      },
      "execution_count": null,
      "outputs": []
    },
    {
      "cell_type": "markdown",
      "source": [
        "Create time vector for period we are interested in (3 years)"
      ],
      "metadata": {
        "id": "Lmw8tCVJU2Hc"
      }
    },
    {
      "cell_type": "code",
      "source": [
        "time=seq(0,365*3)"
      ],
      "metadata": {
        "id": "-EN8LCjPU7U2"
      },
      "execution_count": null,
      "outputs": []
    },
    {
      "cell_type": "markdown",
      "source": [
        "Calculate cumulative baseline hazard"
      ],
      "metadata": {
        "id": "8m3SOjzhVgZN"
      }
    },
    {
      "cell_type": "code",
      "source": [
        "H_0 = h_0 * time"
      ],
      "metadata": {
        "id": "ezCvUAfXVjMU"
      },
      "execution_count": null,
      "outputs": []
    },
    {
      "cell_type": "markdown",
      "source": [
        "#Clinical scenarios\n",
        "Provide new intervention under different scenarios and evaluate its impact on survival\n",
        "\n",
        "Sample patients from the wider population to include in study"
      ],
      "metadata": {
        "id": "6Hjrt3n9dTQC"
      }
    },
    {
      "cell_type": "code",
      "source": [
        "set.seed(86112)\n",
        "patients=population[as.integer(runif(nbrPats)*popSize),]"
      ],
      "metadata": {
        "id": "4Yo9Rwz3DGep"
      },
      "execution_count": null,
      "outputs": []
    },
    {
      "cell_type": "markdown",
      "source": [
        "##Treatment assigned by hospital\n"
      ],
      "metadata": {
        "id": "NPv5AhUud9q4"
      }
    },
    {
      "cell_type": "markdown",
      "source": [
        "Assign patients to catchement area for:\n",
        "* Hospital A - catchment area predominantly affluent suburbs\n",
        "* Hospital B - catchment area includes more deprived inner city regions"
      ],
      "metadata": {
        "id": "O-h-s3p8asBm"
      }
    },
    {
      "cell_type": "code",
      "source": [
        "patients$treat = rep('Standard of Care',nrow(patients))\n",
        "patients$treat[which(patients$hospital=='A')]='Intervention'"
      ],
      "metadata": {
        "id": "DHxUmMDZeuZi"
      },
      "execution_count": null,
      "outputs": []
    },
    {
      "cell_type": "markdown",
      "source": [
        "Add treatment to prognostic index"
      ],
      "metadata": {
        "id": "Ps37_19uez_4"
      }
    },
    {
      "cell_type": "code",
      "source": [
        "patients$treat_pi = log(patients$hr_treat) * (patients$treat == 'Intervention')\n",
        "patients$progInd = patients$baseProgInd + patients$treat_pi"
      ],
      "metadata": {
        "id": "Wmniz3H3e3y3"
      },
      "execution_count": null,
      "outputs": []
    },
    {
      "cell_type": "markdown",
      "source": [
        "Now need to simulate survival times by using probabilities taken from a uniform random number generator for each patient\n",
        "\n",
        "They then survive until the corresponding time equating to the survival probability calculated from their individual hazard radio\n",
        "\n",
        "S(t) = exp(-H_0(t) * exp(progInd)) where we calculate S(t) from random distribution for each patient\n",
        "\n",
        "log(S(t)) = -h_0 * time * exp(progInd)\n",
        "\n",
        "time = - log(S(t)) / h_0*exp(progInd)\n",
        "\n",
        "In the first instance set all patinets to having an event (ie we know when all die). We can censoir later if required"
      ],
      "metadata": {
        "id": "2fDQwxi-YFxq"
      }
    },
    {
      "cell_type": "code",
      "source": [
        "survProb = runif(nbrPats,0,1)\n",
        "patients$survTime = -log(survProb) / (h_0 * exp(patients$progInd))\n",
        "patients$vitalStatus = rbinom(n=nrow(patients), size=1, prob=0.9)"
      ],
      "metadata": {
        "id": "T9MFvo0SYMxf"
      },
      "execution_count": null,
      "outputs": []
    },
    {
      "cell_type": "markdown",
      "source": [
        "Use ggplot to plot KM curve"
      ],
      "metadata": {
        "id": "SmoOTi9ibUqa"
      }
    },
    {
      "cell_type": "code",
      "source": [
        "hospitalSurv = Surv(patients$survTime,patients$vitalStatus)\n",
        "\n",
        "ggsurvfit(survfit2(hospitalSurv~treat, data=patients), type = \"survival\") +\n",
        "  add_censor_mark() +\n",
        "  add_confidence_interval() +\n",
        "  add_risktable() +\n",
        "  coord_cartesian(xlim = c(0, 365 * 3)) +\n",
        "  add_pvalue(caption = \"Log-rank {p.value}\")"
      ],
      "metadata": {
        "id": "SNQBdkijbZ5_"
      },
      "execution_count": null,
      "outputs": []
    },
    {
      "cell_type": "markdown",
      "source": [
        "However, look at balance between those patients who recieved the new treatments (that attended hospital A) and those that didn't (that attended hospital B).\n",
        "\n",
        "Note to get the below table to render (TODO: figure out how to render directly in notebook) you need to copy the html output to the empty text box below the code snippet"
      ],
      "metadata": {
        "id": "PET4qDjWhPqf"
      }
    },
    {
      "cell_type": "code",
      "source": [
        "print(table1(~ age + sex + ps + stage | treat, patients))"
      ],
      "metadata": {
        "id": "Rk21Arqpha7U"
      },
      "execution_count": null,
      "outputs": []
    },
    {
      "cell_type": "markdown",
      "source": [
        "\n",
        "\n",
        "<table class=\"Rtable1\">\n",
        "<thead>\n",
        "<tr>\n",
        "<th class='rowlabel firstrow lastrow'></th>\n",
        "<th class='firstrow lastrow'><span class='stratlabel'>Intervention<br><span class='stratn'>(N=503)</span></span></th>\n",
        "<th class='firstrow lastrow'><span class='stratlabel'>Standard of Care<br><span class='stratn'>(N=497)</span></span></th>\n",
        "<th class='firstrow lastrow'><span class='stratlabel'>Overall<br><span class='stratn'>(N=1000)</span></span></th>\n",
        "</tr>\n",
        "</thead>\n",
        "<tbody>\n",
        "<tr>\n",
        "<td class='rowlabel firstrow'>age</td>\n",
        "<td class='firstrow'></td>\n",
        "<td class='firstrow'></td>\n",
        "<td class='firstrow'></td>\n",
        "</tr>\n",
        "<tr>\n",
        "<td class='rowlabel'>Mean (SD)</td>\n",
        "<td>66.2 (9.39)</td>\n",
        "<td>72.5 (9.13)</td>\n",
        "<td>69.3 (9.76)</td>\n",
        "</tr>\n",
        "<tr>\n",
        "<td class='rowlabel lastrow'>Median [Min, Max]</td>\n",
        "<td class='lastrow'>66.2 [37.5, 93.6]</td>\n",
        "<td class='lastrow'>72.7 [44.1, 96.6]</td>\n",
        "<td class='lastrow'>69.7 [37.5, 96.6]</td>\n",
        "</tr>\n",
        "<tr>\n",
        "<td class='rowlabel firstrow'>sex</td>\n",
        "<td class='firstrow'></td>\n",
        "<td class='firstrow'></td>\n",
        "<td class='firstrow'></td>\n",
        "</tr>\n",
        "<tr>\n",
        "<td class='rowlabel'>female</td>\n",
        "<td>199 (39.6%)</td>\n",
        "<td>195 (39.2%)</td>\n",
        "<td>394 (39.4%)</td>\n",
        "</tr>\n",
        "<tr>\n",
        "<td class='rowlabel lastrow'>male</td>\n",
        "<td class='lastrow'>304 (60.4%)</td>\n",
        "<td class='lastrow'>302 (60.8%)</td>\n",
        "<td class='lastrow'>606 (60.6%)</td>\n",
        "</tr>\n",
        "<tr>\n",
        "<td class='rowlabel firstrow'>ps</td>\n",
        "<td class='firstrow'></td>\n",
        "<td class='firstrow'></td>\n",
        "<td class='firstrow'></td>\n",
        "</tr>\n",
        "<tr>\n",
        "<td class='rowlabel'>Mean (SD)</td>\n",
        "<td>0.954 (0.763)</td>\n",
        "<td>1.81 (0.776)</td>\n",
        "<td>1.38 (0.881)</td>\n",
        "</tr>\n",
        "<tr>\n",
        "<td class='rowlabel lastrow'>Median [Min, Max]</td>\n",
        "<td class='lastrow'>1.00 [0, 3.00]</td>\n",
        "<td class='lastrow'>2.00 [0, 3.00]</td>\n",
        "<td class='lastrow'>1.00 [0, 3.00]</td>\n",
        "</tr>\n",
        "<tr>\n",
        "<td class='rowlabel firstrow'>stage</td>\n",
        "<td class='firstrow'></td>\n",
        "<td class='firstrow'></td>\n",
        "<td class='firstrow'></td>\n",
        "</tr>\n",
        "<tr>\n",
        "<td class='rowlabel'>Mean (SD)</td>\n",
        "<td>1.58 (0.861)</td>\n",
        "<td>2.61 (0.936)</td>\n",
        "<td>2.09 (1.03)</td>\n",
        "</tr>\n",
        "<tr>\n",
        "<td class='rowlabel lastrow'>Median [Min, Max]</td>\n",
        "<td class='lastrow'>1.00 [1.00, 4.00]</td>\n",
        "<td class='lastrow'>3.00 [1.00, 4.00]</td>\n",
        "<td class='lastrow'>2.00 [1.00, 4.00]</td>\n",
        "</tr>\n",
        "</tbody>\n",
        "</table>\n",
        "\n"
      ],
      "metadata": {
        "id": "-Tw-97ICZXyl"
      }
    },
    {
      "cell_type": "markdown",
      "source": [
        "Plotted as graphs"
      ],
      "metadata": {
        "id": "ZtQEh0LD3900"
      }
    },
    {
      "cell_type": "code",
      "source": [
        "p1 = ggplot(patients,aes(x=ps, group=treat, fill=treat)) +\n",
        "  geom_bar(stat='count',position='dodge')\n",
        "p2 = ggplot(patients,aes(x=age, group=treat, fill=treat)) +\n",
        "  geom_histogram(binwidth=2,position = 'identity',alpha=0.5)\n",
        "p3 = ggplot(patients,aes(x=stage, group=treat, fill=treat)) +\n",
        "  geom_bar(stat='count',position='dodge')\n",
        "p4 = ggplot(patients,aes(x=gtv, group=treat, fill=treat)) +\n",
        "  geom_histogram(binwidth=5,position = 'identity',alpha=0.5) +\n",
        "  xlim(0, 200)\n",
        "\n",
        "combined <- p1 + p2 +p3 + p4 & theme(legend.position = \"bottom\")\n",
        "combined + plot_layout(guides = \"collect\")"
      ],
      "metadata": {
        "id": "GLbdB-2K4AnL"
      },
      "execution_count": null,
      "outputs": []
    },
    {
      "cell_type": "markdown",
      "source": [
        "However, calculate the multivariable cox model and see what the regression coefficients say"
      ],
      "metadata": {
        "id": "r7NV2JTCbrkv"
      }
    },
    {
      "cell_type": "code",
      "source": [
        "hospitalCox = coxph(hospitalSurv~ age + factor(sex) + factor(ps) + factor(stage) + log(gtv) + treat, data=patients)\n",
        "summary(hospitalCox)"
      ],
      "metadata": {
        "id": "dKxb_EjIbvVx"
      },
      "execution_count": null,
      "outputs": []
    },
    {
      "cell_type": "markdown",
      "source": [
        "##Treatment assigned randomly to all patients\n",
        "In the next scenario, treatment is assigned randonly to all patients\n",
        "\n",
        "The randomisation balances the groups meaning the log-rank test results closely agree with the multivariable regression\n",
        "\n",
        "Create the new survival data"
      ],
      "metadata": {
        "id": "6S02Smwu5ySc"
      }
    },
    {
      "cell_type": "code",
      "source": [
        "patients$treat = rep('Standard of Care',nbrPats)\n",
        "patients$treat[which(runif(nbrPats)>0.5)]='Intervention'\n",
        "\n",
        "patients$treat_pi = log(patients$hr_treat) * (patients$treat == 'Intervention')\n",
        "patients$progInd = patients$baseProgInd + patients$treat_pi\n",
        "\n",
        "survProb = runif(nbrPats,0,1)\n",
        "patients$survTime = -log(survProb) / (h_0 * exp(patients$progInd))\n",
        "patients$vitalStatus = rbinom(n=nrow(patients), size=1, prob=0.9)"
      ],
      "metadata": {
        "id": "f7R9sFh-50wq"
      },
      "execution_count": null,
      "outputs": []
    },
    {
      "cell_type": "markdown",
      "source": [
        "Look at KM curve"
      ],
      "metadata": {
        "id": "oTRAkcHn8q83"
      }
    },
    {
      "cell_type": "code",
      "source": [
        "randSurv = Surv(patients$survTime,patients$vitalStatus)\n",
        "\n",
        "ggsurvfit(survfit2(randSurv~treat, data=patients), type = \"survival\") +\n",
        "  add_censor_mark() +\n",
        "  add_confidence_interval() +\n",
        "  add_risktable() +\n",
        "  coord_cartesian(xlim = c(0, 365 * 3)) +\n",
        "  add_pvalue(caption = \"Log-rank {p.value}\")\n"
      ],
      "metadata": {
        "id": "7RtD7TKT8t45"
      },
      "execution_count": null,
      "outputs": []
    },
    {
      "cell_type": "markdown",
      "source": [
        "Plot balance of groups"
      ],
      "metadata": {
        "id": "FXXWtx_beesu"
      }
    },
    {
      "cell_type": "code",
      "source": [
        "p1 = ggplot(patients,aes(x=ps, group=treat, fill=treat)) +\n",
        "  geom_bar(stat='count',position='dodge')\n",
        "p2 = ggplot(patients,aes(x=age, group=treat, fill=treat)) +\n",
        "  geom_histogram(binwidth=2,position = 'identity',alpha=0.5)\n",
        "p3 = ggplot(patients,aes(x=stage, group=treat, fill=treat)) +\n",
        "  geom_bar(stat='count',position='dodge')\n",
        "p4 = ggplot(patients,aes(x=gtv, group=treat, fill=treat)) +\n",
        "  geom_histogram(binwidth=5,position = 'identity',alpha=0.5) +\n",
        "  xlim(0, 200)\n",
        "\n",
        "combined <- p1 + p2 +p3 + p4 & theme(legend.position = \"bottom\")\n",
        "combined + plot_layout(guides = \"collect\")"
      ],
      "metadata": {
        "id": "hLPbJG7kegpU"
      },
      "execution_count": null,
      "outputs": []
    },
    {
      "cell_type": "markdown",
      "source": [
        "Check multi variable analysis"
      ],
      "metadata": {
        "id": "hqO0rKcXmkki"
      }
    },
    {
      "cell_type": "code",
      "source": [
        "randCox = coxph(randSurv~ age + factor(sex) + factor(ps) + factor(stage) + log(gtv) + treat, data=patients)\n",
        "summary(randCox)"
      ],
      "metadata": {
        "id": "tbtxbc-lmm9L"
      },
      "execution_count": null,
      "outputs": []
    },
    {
      "cell_type": "markdown",
      "source": [
        "##Randomisation with selection criteria\n",
        "In the final scenario we demonstrate why trials have selection criteria. As some patients respond differently to the new treatment, selection of only those patients expected to respond positively to the intervention can lead to more impressive results"
      ],
      "metadata": {
        "id": "mC9wLNrAtJR8"
      }
    },
    {
      "cell_type": "markdown",
      "source": [
        "Limit the treatment to those patients with\n",
        "* Performance status 0-1\n",
        "* Stage 1-3"
      ],
      "metadata": {
        "id": "C-8qBXnlvgoT"
      }
    },
    {
      "cell_type": "code",
      "source": [
        "patients_included = population %>%\n",
        "  dplyr::filter((ps == 0 | ps ==1) & (stage == 1 | stage == 2)) %>%\n",
        "  slice_sample(n=nbrPats)"
      ],
      "metadata": {
        "id": "fHWt3nSEvQFX"
      },
      "execution_count": null,
      "outputs": []
    },
    {
      "cell_type": "markdown",
      "source": [
        "Randomise this subset of patients and repeat the analysis"
      ],
      "metadata": {
        "id": "SsYHWOj1xbJl"
      }
    },
    {
      "cell_type": "code",
      "source": [
        "patients_included$treat = rep('Standard of Care',nbrPats)\n",
        "patients_included$treat[which(runif(nbrPats)>0.5)]='Intervention'\n",
        "\n",
        "patients_included$treat_pi = log(patients_included$hr_treat) * (patients_included$treat == 'Intervention')\n",
        "patients_included$progInd = patients_included$baseProgInd + patients_included$treat_pi\n",
        "\n",
        "survProb = runif(nbrPats,0,1)\n",
        "patients_included$survTime = -log(survProb) / (h_0 * exp(patients_included$progInd))\n",
        "patients_included$vitalStatus = rbinom(n=nbrPats, size=1, prob=0.9)"
      ],
      "metadata": {
        "id": "38LkA4CFxhup"
      },
      "execution_count": null,
      "outputs": []
    },
    {
      "cell_type": "markdown",
      "source": [
        "Look at KM curve and Cox regression, check cohort balance"
      ],
      "metadata": {
        "id": "Q3r9XqnZyBsL"
      }
    },
    {
      "cell_type": "code",
      "source": [
        "selectSurv = Surv(patients_included$survTime,patients_included$vitalStatus)\n",
        "\n",
        "ggsurvfit(survfit2(selectSurv~treat, data=patients_included), type = \"survival\") +\n",
        "  add_censor_mark() +\n",
        "  add_confidence_interval() +\n",
        "  add_risktable() +\n",
        "  coord_cartesian(xlim = c(0, 365 * 3)) +\n",
        "  add_pvalue(caption = \"Log-rank {p.value}\")"
      ],
      "metadata": {
        "id": "a37TK_ezyGpV"
      },
      "execution_count": null,
      "outputs": []
    },
    {
      "cell_type": "code",
      "source": [
        "selectCox = coxph(selectSurv~ age + sex + ps + stage + log(gtv) + treat, data=patients_included)\n",
        "summary(selectCox)"
      ],
      "metadata": {
        "id": "w56vWP0PcpmE"
      },
      "execution_count": null,
      "outputs": []
    }
  ]
}