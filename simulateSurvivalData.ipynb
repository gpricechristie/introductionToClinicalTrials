{
  "nbformat": 4,
  "nbformat_minor": 0,
  "metadata": {
    "colab": {
      "provenance": [],
      "authorship_tag": "ABX9TyMRqk2ckGceOCL8JDvea/ww"
    },
    "kernelspec": {
      "name": "ir",
      "display_name": "R"
    },
    "language_info": {
      "name": "R"
    }
  },
  "cells": [
    {
      "cell_type": "markdown",
      "source": [
        "#Simulation of a clinical trial cohort to demonstrate trial design\n",
        "Basic analysis to create simple (non-censored) survival data with simple exponential baseline hazard and hazard to various risk factors that  can be used to demonstrate confounding, randomisation and selection bias.\n",
        "\n",
        "Patient factors to consider will be\n",
        "* Age\n",
        "* Sex\n",
        "* Performance status\n",
        "* Cancer stage\n",
        "* GTV Volume\n",
        "* Chemotherapy regimen\n",
        "\n",
        "We will consider lung cancer and take hazard ratio estimates from cardiac toxicity papers (10.1016/j.ejca.2017.07.053). Add in an HR for respose to new radiotherapy regimen\n",
        "* Age HR - 1.01/year\n",
        "* Sex HR - (ref female), 1.2\n",
        "* Performance status HR - (ref 0), 1.3 (1), 1.55 (2), 1.82 (3+)\n",
        "* Cancer stage HR - (ref 1), 1.3 (2), 1.5 (3), 2.0 (4)\n",
        "* GTV Volume HR - 1.01 / cm3\n",
        "* Chemotherapy regimen HR - (ref RT alone), 1.2 (Sequential), 1.4 (Concurrent)\n",
        "* Treatment effect HR - 1.3\n"
      ],
      "metadata": {
        "id": "y4gpB7SVj2PE"
      }
    },
    {
      "cell_type": "markdown",
      "source": [
        "Load libraries"
      ],
      "metadata": {
        "id": "7svJTMk_kIgr"
      }
    },
    {
      "cell_type": "code",
      "source": [
        "library(survival)\n",
        "library(ggplot2)"
      ],
      "metadata": {
        "id": "-k2KfVG5kHnD"
      },
      "execution_count": 11,
      "outputs": []
    },
    {
      "cell_type": "markdown",
      "source": [
        "Set basic parameters\n",
        "\n",
        "\n",
        "*   Number of patients (nbrPats)\n",
        "*   Hazards for different factors (hr_X)\n",
        "*   Baseline hazards (h_0 - uniform as exponential cumulative baseline)\n",
        "\n"
      ],
      "metadata": {
        "id": "hTUBJkqeky4t"
      }
    },
    {
      "cell_type": "code",
      "source": [
        "nbrPats = 1000\n",
        "hr_age=1.01\n",
        "hr_sex=1.2\n",
        "hr_ps1=1.3\n",
        "hr_ps2=1.55\n",
        "hr_ps3=1.82\n",
        "hr_stage2=1.3\n",
        "hr_stage3=1.5\n",
        "hr_stage4=2.0\n",
        "hr_gtv=1.01\n",
        "hr_chemoSeq=1.2\n",
        "hr_chemoCon=1.4\n",
        "hr_treat=1.3\n",
        "h_0=0.1"
      ],
      "metadata": {
        "id": "251mXMLQj-cK"
      },
      "execution_count": 5,
      "outputs": []
    },
    {
      "cell_type": "markdown",
      "source": [
        "Define the distribution of characteristics across the patient population\n",
        "\n",
        "Start with weighted random assignment approximating distributions seen in Christie data\n",
        "* Age - normal distribution with mean 70 and sd 10\n",
        "* PS - sampled with weights 0.15, 0.45, 0.4, 0.1\n",
        "* stage - sampled with weights 0.5, 0.125, 0.3, 0.075\n",
        "* sex - sampled with weights 0.4, 0.6\n",
        "* log gtv - normal distribution with mean 4 and sd 1\n",
        "\n",
        "Will need to be weighted to reasonable distributions and will need to include some correlations (eg stage and GTV)"
      ],
      "metadata": {
        "id": "mW6kO0osoGTl"
      }
    },
    {
      "cell_type": "code",
      "source": [
        "ps=sample(c(0,1,2,3), nbrPats, replace=TRUE, prob=c(0.15, 0.45, 0.4, 0.1))\n",
        "patients = data.frame(ps=ps)\n",
        "age=rnorm(nbrPats,mean=70,sd=10)\n",
        "patients$age=age\n",
        "stage=sample(c(1,2,3,4), nbrPats, replace=TRUE, prob=c(0.5, 0.125, 0.3, 0.075))\n",
        "patients$stage=stage\n",
        "sex=sample(c('male','female'), nbrPats, replace=TRUE, prob=c(0.6, 0.4))\n",
        "patients$sex=sex\n",
        "logGtv = rnorm(nbrPats,mean=3, sd=1)\n",
        "patients$gtv=exp(logGtv)"
      ],
      "metadata": {
        "id": "Oq75vLSJocMZ"
      },
      "execution_count": 30,
      "outputs": []
    },
    {
      "cell_type": "code",
      "source": [
        "ggplot(patients,aes(x=ps)) +\n",
        "  geom_bar(stat='count')\n",
        "ggplot(patients,aes(x=age)) +\n",
        "  geom_histogram()\n",
        "ggplot(patients,aes(x=stage)) +\n",
        "  geom_bar(stat='count')\n",
        "ggplot(patients,aes(x=gtv)) +\n",
        "  geom_histogram()"
      ],
      "metadata": {
        "id": "X3qjPvOFxzvI"
      },
      "execution_count": null,
      "outputs": []
    },
    {
      "cell_type": "markdown",
      "source": [
        "Create time vector for period we are interested in (3 years)"
      ],
      "metadata": {
        "id": "Lmw8tCVJU2Hc"
      }
    },
    {
      "cell_type": "code",
      "source": [
        "time=seq(0,365*3)"
      ],
      "metadata": {
        "id": "-EN8LCjPU7U2"
      },
      "execution_count": 3,
      "outputs": []
    },
    {
      "cell_type": "markdown",
      "source": [
        "Calculate cumulative baseline hazard"
      ],
      "metadata": {
        "id": "8m3SOjzhVgZN"
      }
    },
    {
      "cell_type": "code",
      "source": [
        "H_0 = h_0 * time"
      ],
      "metadata": {
        "id": "ezCvUAfXVjMU"
      },
      "execution_count": 4,
      "outputs": []
    },
    {
      "cell_type": "markdown",
      "source": [
        "Create array of hazards as a function of time for different prognostic indicies\n",
        "\n",
        "Hazard for patient i: h_i = H_0 * exp(B_i * x_i)\n",
        "\n",
        "B_i *x_i = prognostic index\n"
      ],
      "metadata": {
        "id": "bsIgRNNfVCz8"
      }
    },
    {
      "cell_type": "code",
      "source": [],
      "metadata": {
        "id": "FkRw4YljVdbx"
      },
      "execution_count": null,
      "outputs": []
    }
  ]
}