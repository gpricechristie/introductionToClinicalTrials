{
  "nbformat": 4,
  "nbformat_minor": 0,
  "metadata": {
    "colab": {
      "provenance": [],
      "authorship_tag": "ABX9TyNFXsjdTdmbb5/Pr04jUIkg",
      "include_colab_link": true
    },
    "kernelspec": {
      "name": "ir",
      "display_name": "R"
    },
    "language_info": {
      "name": "R"
    }
  },
  "cells": [
    {
      "cell_type": "markdown",
      "metadata": {
        "id": "view-in-github",
        "colab_type": "text"
      },
      "source": [
        "<a href=\"https://colab.research.google.com/github/gpricechristie/introductionToClinicalTrials/blob/main/simulateSurvivalData.ipynb\" target=\"_parent\"><img src=\"https://colab.research.google.com/assets/colab-badge.svg\" alt=\"Open In Colab\"/></a>"
      ]
    },
    {
      "cell_type": "markdown",
      "source": [
        "#Simulation of a clinical trial cohort to demonstrate trial design\n",
        "Basic analysis to create simple (non-censored) survival data with simple exponential baseline hazard and hazard to various risk factors that  can be used to demonstrate confounding, randomisation and selection bias.\n",
        "\n",
        "Patient factors to consider will be\n",
        "* Age\n",
        "* Sex\n",
        "* Performance status\n",
        "* Cancer stage\n",
        "* GTV Volume\n",
        "\n",
        "We will consider lung cancer and take hazard ratio estimates from cardiac toxicity papers (10.1016/j.ejca.2017.07.053). Add in an HR for respose to new radiotherapy regimen\n",
        "* Age HR - 1.01/year\n",
        "* Sex HR - (ref female), 1.2\n",
        "* Performance status HR - (ref 0), 1.3 (1), 1.55 (2), 1.82 (3+)\n",
        "* Cancer stage HR - (ref 1), 1.3 (2), 1.5 (3), 2.0 (4)\n",
        "* GTV Volume HR - 1.01 / cm3\n",
        "* Treatment effect HR - 1.3\n",
        "\n",
        "The treatment effect will differ for different patient populations. This means the analyses can test\n",
        "* Effect of randomisation vs observation to determine effect of intervention on study - this will need some confounding that affects who is treated and who isn't. Hospital A vs B where the hospitals serve different demographics.\n",
        "population\n",
        "* Use of selection criteria to find those patients the treatment is most effective in\n",
        "* Selection bias of these results not translating to patients where it is less effective\n"
      ],
      "metadata": {
        "id": "y4gpB7SVj2PE"
      }
    },
    {
      "cell_type": "markdown",
      "source": [
        "Load libraries"
      ],
      "metadata": {
        "id": "7svJTMk_kIgr"
      }
    },
    {
      "cell_type": "code",
      "source": [
        "install.packages(\"ggsurvfit\")\n"
      ],
      "metadata": {
        "id": "CAhkSlApMJKU"
      },
      "execution_count": null,
      "outputs": []
    },
    {
      "cell_type": "code",
      "source": [
        "install.packages(\"table1\")"
      ],
      "metadata": {
        "id": "2z46KYg1iHC9"
      },
      "execution_count": null,
      "outputs": []
    },
    {
      "cell_type": "code",
      "source": [
        "library(survival)\n",
        "library(ggplot2)\n",
        "library(ggsurvfit)\n",
        "library(tidyr)\n",
        "library(table1)\n",
        "library(patchwork)\n",
        "library(dplyr)"
      ],
      "metadata": {
        "id": "-k2KfVG5kHnD"
      },
      "execution_count": null,
      "outputs": []
    },
    {
      "cell_type": "markdown",
      "source": [
        "Set basic parameters\n",
        "\n",
        "\n",
        "*   Number of patients (nbrPats)\n",
        "*   Hazards for different factors (hr_X).\n",
        "*   Baseline hazards (h_0 - uniform as exponential cumulative baseline)\n",
        "\n"
      ],
      "metadata": {
        "id": "hTUBJkqeky4t"
      }
    },
    {
      "cell_type": "code",
      "source": [
        "popSize=50000\n",
        "nbrPats = 1000\n",
        "hr_age=1.01\n",
        "hr_sex=1.2\n",
        "hr_ps1=1.3\n",
        "hr_ps2=1.55\n",
        "hr_ps3=1.82\n",
        "hr_stage2=1.3\n",
        "hr_stage3=1.5\n",
        "hr_stage4=2.0\n",
        "hr_gtv=1.4\n",
        "hr_treat=1.3\n",
        "h_0=0.001"
      ],
      "metadata": {
        "id": "251mXMLQj-cK"
      },
      "execution_count": null,
      "outputs": []
    },
    {
      "cell_type": "markdown",
      "source": [
        "Define the distribution of characteristics across the patient population\n",
        "\n",
        "Start with weighted random assignment approximating distributions seen in Christie data\n",
        "* Age - normal distribution with mean 70 and sd 10\n",
        "* PS - sampled with weights 0.15, 0.45, 0.4, 0.1\n",
        "* stage - sampled with weights 0.5, 0.125, 0.3, 0.075\n",
        "* sex - sampled with weights 0.4, 0.6\n",
        "* log gtv - normal distribution with mean 4 and sd 1\n",
        "* hospital - hospital A serves a younger/fitter/earlier stage demographic vs B which serves an older/frailer/later stage demographic\n",
        "\n",
        "Use conditionals to create a rough correlation between age and PS, and GTV and stage\n"
      ],
      "metadata": {
        "id": "mW6kO0osoGTl"
      }
    },
    {
      "cell_type": "code",
      "source": [
        "set.seed(8734620)\n",
        "\n",
        "age=rnorm(popSize,mean=70,sd=10)\n",
        "population=data.frame(age=age)\n",
        "\n",
        "population<-population %>%\n",
        "  mutate(ps= factor(case_when(age<quantile(age,0.2)~sample(c(0,1,2,3),n(), replace = TRUE, prob=c(0.25, 0.55, 0.15, 0.05)),\n",
        "                       age<quantile(age,0.4)~sample(c(0,1,2,3),n(), replace = TRUE, prob=c(0.2, 0.5, 0.2, 0.1)),\n",
        "                       age<quantile(age,0.6)~sample(c(0,1,2,3),n(), replace = TRUE, prob=c(0.15, 0.45, 0.4, 0.1)),\n",
        "                       age<quantile(age,0.8)~sample(c(0,1,2,3),n(), replace = TRUE, prob=c(0.1, 0.3, 0.45, 0.15)),\n",
        "                       TRUE~sample(c(0,1,2,3),n(), replace = TRUE, prob=c(0.05, 0.3, 0.5, 0.15)))))\n",
        "\n",
        "sex=sample(c('male','female'), popSize, replace=TRUE, prob=c(0.6, 0.4))\n",
        "population$sex=factor(sex)\n",
        "\n",
        "logGtv = rnorm(popSize,mean=3, sd=1)\n",
        "population$gtv=exp(logGtv)\n",
        "\n",
        "population<-population %>%\n",
        "  mutate(stage= factor(case_when(logGtv<quantile(logGtv,0.2)~sample(c(1,2,3,4),n(), replace = TRUE, prob=c(0.55, 0.25, 0.15, 0.05)),\n",
        "                          logGtv<quantile(logGtv,0.4)~sample(c(1,2,3,4),n(), replace = TRUE, prob=c(0.5, 0.2, 0.25, 0.05)),\n",
        "                          logGtv<quantile(logGtv,0.6)~sample(c(1,2,3,4),n(), replace = TRUE, prob=c(0.4, 0.175, 0.35, 0.075)),\n",
        "                          logGtv<quantile(logGtv,0.8)~sample(c(1,2,3,4),n(), replace = TRUE, prob=c(0.35, 0.15, 0.4, 0.1)),\n",
        "                          TRUE~sample(c(1,2,3,4),n(), replace = TRUE, prob=c(0.25, 0.1, 0.5, 0.15)))))\n"
      ],
      "metadata": {
        "id": "Oq75vLSJocMZ"
      },
      "execution_count": null,
      "outputs": []
    },
    {
      "cell_type": "markdown",
      "source": [
        "Set different treatment HRs by patient age, sex, PS, stage. Regress against these values and add in some uncertainty in response.\n",
        "\n",
        "First normalise variables then re-order if necessary so HR increases in the logical direction - more unhealthy the patient, the less their reponse.\n",
        "HR of death when using the new treatment should run 0.6 -> 1 with some uncertainty (ie no one gets significantly more ill with the new intervention)\n",
        "\n"
      ],
      "metadata": {
        "id": "cI2u7bmkOg6K"
      }
    },
    {
      "cell_type": "code",
      "source": [
        "age_norm = (age-median(population$age))/(max(population$age)-min(population$age))\n",
        "age_norm=age_norm-min(age_norm)\n",
        "ps_norm = (as.numeric(population$ps)-median(as.numeric(population$ps)))/3\n",
        "stage_norm = (as.numeric(population$stage)-1)/3\n",
        "sex_norm = rep(0,length(population$sex))\n",
        "sex_norm[which(population$sex == 'male')] = 1\n",
        "\n",
        "hr_treat = abs((age_norm + ps_norm + sex_norm + stage_norm) + rnorm(n=popSize, mean=0, sd=0.1))\n",
        "hr_treat = ((hr_treat-min(hr_treat)) / (max(hr_treat)-min(hr_treat))) *0.3 + 0.7 + rnorm(n=popSize, mean=0, sd=0.1)\n",
        "population$hr_treat = hr_treat\n"
      ],
      "metadata": {
        "id": "V_DNXewwPI3H"
      },
      "execution_count": null,
      "outputs": []
    },
    {
      "cell_type": "markdown",
      "source": [
        "Create array of hazards as a function of time for different prognostic indicies\n",
        "\n",
        "Hazard for patient i: h_i = H_0 * exp(B_i * x_i)\n",
        "\n",
        "B_i *x_i = prognostic index for patient i\n",
        "\n"
      ],
      "metadata": {
        "id": "bsIgRNNfVCz8"
      }
    },
    {
      "cell_type": "markdown",
      "source": [
        "First calculate prognostic index for each patient\n",
        "\n",
        "Natural log of HRs to create the beta coefficients\n",
        "\n",
        "For continuous variables (eg age) the reference value is the mean, for categorical variables, reference (eg stage) is lowest risk\n",
        "\n"
      ],
      "metadata": {
        "id": "QkQhOovvTv3F"
      }
    },
    {
      "cell_type": "code",
      "source": [
        "population$age_pi = (population$age - mean(population$age))*log(hr_age)\n",
        "\n",
        "population$sex_pi = rep(log(1.0),popSize)\n",
        "population$sex_pi[which(population$sex == 'male')] = rep(log(hr_sex),sum(population$sex == 'male'))\n",
        "\n",
        "population$ps_pi = rep(log(1.0),popSize)\n",
        "population$ps_pi[which(population$ps == 1)] = rep(log(hr_ps1),sum(population$ps == 1))\n",
        "population$ps_pi[which(population$ps == 2)] = rep(log(hr_ps2),sum(population$ps == 2))\n",
        "population$ps_pi[which(population$ps == 3)] = rep(log(hr_ps3),sum(population$ps == 3))\n",
        "\n",
        "population$stage_pi = rep(log(1.0),popSize)\n",
        "population$stage_pi[which(population$stage == 2)] = rep(log(hr_stage2),sum(population$stage == 2))\n",
        "population$stage_pi[which(population$stage == 3)] = rep(log(hr_stage3),sum(population$stage == 3))\n",
        "population$stage_pi[which(population$stage == 4)] = rep(log(hr_stage4),sum(population$stage == 4))\n",
        "\n",
        "population$log_gtv_pi = (log(population$gtv) - mean(log(population$gtv)))*log(hr_gtv)\n",
        "\n",
        "population$baseProgInd = population$age_pi + population$sex_pi + population$ps_pi + population$stage_pi + population$log_gtv_pi"
      ],
      "metadata": {
        "id": "FkRw4YljVdbx"
      },
      "execution_count": null,
      "outputs": []
    },
    {
      "cell_type": "markdown",
      "source": [
        "Assign hospital each patient is treated in by applying some selection criteria with noise.\n",
        "\n",
        "Assign patients to catchement area for:\n",
        "* Hospital A serving a population from a wealthy, well educated region (younger, fitter, earlier stage patients)\n",
        "* Hospital B seving a population from a more deprived, ex-inductrial region (older, frailer, later stage patients)"
      ],
      "metadata": {
        "id": "UU_CfmFQjLNA"
      }
    },
    {
      "cell_type": "code",
      "source": [
        "age_norm = (population$age-min(population$age))/(max(population$age)-min(population$age))\n",
        "ps_norm = as.numeric(population$ps)/3\n",
        "stage_norm = (as.numeric(population$stage)-1)/3\n",
        "\n",
        "hospital = 1.3*age_norm + ps_norm + stage_norm + rnorm(n=popSize, mean=0, sd=0.3)\n",
        "hospital = (hospital-min(hospital))/(max(hospital)-min(hospital))\n",
        "population$hospital = rep('A',length(hospital))\n",
        "population$hospital[which(hospital>median(hospital))]='B'"
      ],
      "metadata": {
        "id": "EJr7DLsgjXFW"
      },
      "execution_count": null,
      "outputs": []
    },
    {
      "cell_type": "markdown",
      "source": [
        "Save population data"
      ],
      "metadata": {
        "id": "4ly6u92cjj9u"
      }
    },
    {
      "cell_type": "code",
      "source": [
        "write.csv(population,'simulatedPopulation.csv')"
      ],
      "metadata": {
        "id": "iGpK3ZjUjm-Z"
      },
      "execution_count": null,
      "outputs": []
    },
    {
      "cell_type": "markdown",
      "source": [
        "Look at population distribution"
      ],
      "metadata": {
        "id": "_cMzZz1Z1NVh"
      }
    },
    {
      "cell_type": "code",
      "source": [
        "p1 = ggplot(population,aes(x=ps)) +\n",
        "  geom_bar(stat='count', fill='blue')\n",
        "p2 = ggplot(population,aes(x=age)) +\n",
        "  geom_histogram(fill='blue',binwidth=2)\n",
        "p3 = ggplot(population,aes(x=stage)) +\n",
        "  geom_bar(stat='count', fill='blue')\n",
        "p4 = ggplot(population,aes(x=gtv)) +\n",
        "  geom_histogram(fill='blue',binwidth=5) +\n",
        "  xlim(c(0,200))\n",
        "p1+p2+p3+p4"
      ],
      "metadata": {
        "id": "X3qjPvOFxzvI"
      },
      "execution_count": null,
      "outputs": []
    },
    {
      "cell_type": "markdown",
      "source": [
        "For debugging examine distribution of the hazard of treatment across the population"
      ],
      "metadata": {
        "id": "gcRRm9Xd1Wxb"
      }
    },
    {
      "cell_type": "code",
      "source": [
        "p1 = ggplot(data=population, aes(y=hr_treat)) +\n",
        "  geom_point(aes(x=ps),alpha = 0.1, position=position_jitter(height=.05, width=.05),colour='blue')\n",
        "p2 = ggplot(data=population, aes(y=hr_treat)) +\n",
        "  geom_point(aes(x=age),alpha = 0.1, position=position_jitter(height=.05, width=.05),colour='blue')\n",
        "p3 = ggplot(data=population, aes(y=hr_treat)) +\n",
        "  geom_point(aes(x=stage),alpha = 0.1, position=position_jitter(height=.05, width=.05),colour='blue')\n",
        "p4 = ggplot(data=population, aes(y=hr_treat)) +\n",
        "  geom_point(aes(x=sex),alpha = 0.1, position=position_jitter(height=.05, width=.05),colour='blue')\n",
        "p5 = ggplot(population,aes(x=hr_treat)) +\n",
        "  geom_histogram(fill='blue',binwidth=0.01)\n",
        "p1+p2+p3+p4+p5"
      ],
      "metadata": {
        "id": "MErUcl7dqwSu"
      },
      "execution_count": null,
      "outputs": []
    },
    {
      "cell_type": "markdown",
      "source": [
        "#Clinical scenarios\n",
        "Provide new intervention under different scenarios and evaluate its impact on survival\n",
        "\n",
        "Sample patients from the wider population to include in study"
      ],
      "metadata": {
        "id": "6Hjrt3n9dTQC"
      }
    },
    {
      "cell_type": "code",
      "source": [
        "set.seed(86112)\n",
        "patients=population[as.integer(runif(nbrPats)*popSize),]\n"
      ],
      "metadata": {
        "id": "4Yo9Rwz3DGep"
      },
      "execution_count": null,
      "outputs": []
    },
    {
      "cell_type": "markdown",
      "source": [
        "##Treatment assigned by hospital\n"
      ],
      "metadata": {
        "id": "NPv5AhUud9q4"
      }
    },
    {
      "cell_type": "markdown",
      "source": [
        "Hospital A introduces the new treatment for all patients\n",
        "\n",
        "Assign treatment variable by hospital"
      ],
      "metadata": {
        "id": "5SSp8kH8C77e"
      }
    },
    {
      "cell_type": "code",
      "source": [
        "patients$treat = rep('Standard of Care',nrow(patients))\n",
        "patients$treat[which(patients$hospital=='A')]='Intervention'"
      ],
      "metadata": {
        "id": "DHxUmMDZeuZi"
      },
      "execution_count": null,
      "outputs": []
    },
    {
      "cell_type": "markdown",
      "source": [
        "Add treatment to prognostic index"
      ],
      "metadata": {
        "id": "Ps37_19uez_4"
      }
    },
    {
      "cell_type": "code",
      "source": [
        "patients$treat_pi = log(patients$hr_treat) * (patients$treat == 'Intervention')\n",
        "patients$progInd = patients$baseProgInd + patients$treat_pi"
      ],
      "metadata": {
        "id": "Wmniz3H3e3y3"
      },
      "execution_count": null,
      "outputs": []
    },
    {
      "cell_type": "markdown",
      "source": [
        "Create time vector for period we are interested in (3 years) and calculate the cumulative baseline hazard:"
      ],
      "metadata": {
        "id": "Lmw8tCVJU2Hc"
      }
    },
    {
      "cell_type": "code",
      "source": [
        "time=seq(0,365*3)\n",
        "H_0 = h_0 * time"
      ],
      "metadata": {
        "id": "-EN8LCjPU7U2"
      },
      "execution_count": null,
      "outputs": []
    },
    {
      "cell_type": "markdown",
      "source": [
        "Calculate the individual hazard per patient over time"
      ],
      "metadata": {
        "id": "NoBLadHoXCS4"
      }
    },
    {
      "cell_type": "code",
      "source": [
        "hazard = array(dim=c(length(time),nrow=nbrPats))\n",
        "for(i in 1:nbrPats){\n",
        "  hazard[,i] =  H_0 * exp(patients$progInd[i])\n",
        "}"
      ],
      "metadata": {
        "id": "7tWajWUUXshR"
      },
      "execution_count": null,
      "outputs": []
    },
    {
      "cell_type": "markdown",
      "source": [
        "Calculate survival probabilities per patient from their hazard and the baseline S_i = exp(-hazard)\n",
        "\n",
        "Plot to see if it looks sensible\n",
        "\n"
      ],
      "metadata": {
        "id": "ThWoGK3bX0eA"
      }
    },
    {
      "cell_type": "code",
      "source": [
        "surv = exp(-hazard)\n",
        "surv_df = data.frame(id=rep(seq(nbrPats), each=nrow(surv)), time=rep(time, ncol(surv)), surv_prob=as.vector(surv))\n",
        "ggplot(data=surv_df,aes(x=time, y=surv_prob, group=id)) +\n",
        "  geom_line(alpha=0.05)"
      ],
      "metadata": {
        "id": "2T8UeHm0X_f-"
      },
      "execution_count": null,
      "outputs": []
    },
    {
      "cell_type": "markdown",
      "source": [
        "Now need to simulate survival times by using probabilities taken from a uniform random number generator for each patient\n",
        "\n",
        "They then survive until the corresponding time equating to the survival probability calculated from their individual hazard radio\n",
        "\n",
        "S(t) = exp(-H_0(t) * exp(progInd)) where we calculate S(t) from random distribution for each patient\n",
        "\n",
        "log(S(t)) = -h_0 * time * exp(progInd)\n",
        "\n",
        "time = - log(S(t)) / h_0*exp(progInd)\n",
        "\n",
        "In the first instance set all patinets to having an event (ie we know when all die). We can censoir later if required"
      ],
      "metadata": {
        "id": "2fDQwxi-YFxq"
      }
    },
    {
      "cell_type": "code",
      "source": [
        "survProb = runif(nbrPats,0,1)\n",
        "patients$survTime = -log(survProb) / (h_0 * exp(patients$progInd))\n",
        "patients$vitalStatus = rbinom(n=nrow(patients), size=1, prob=0.9)"
      ],
      "metadata": {
        "id": "T9MFvo0SYMxf"
      },
      "execution_count": null,
      "outputs": []
    },
    {
      "cell_type": "markdown",
      "source": [
        "Use ggplot to plot KM curve"
      ],
      "metadata": {
        "id": "SmoOTi9ibUqa"
      }
    },
    {
      "cell_type": "code",
      "source": [
        "hospitalSurv = Surv(patients$survTime,patients$vitalStatus)\n",
        "\n",
        "ggsurvfit(survfit2(hospitalSurv~treat, data=patients), type = \"survival\") +\n",
        "  add_censor_mark() +\n",
        "  add_confidence_interval() +\n",
        "  add_risktable() +\n",
        "  coord_cartesian(xlim = c(0, 365 * 3)) +\n",
        "  add_pvalue(caption = \"Log-rank {p.value}\")\n"
      ],
      "metadata": {
        "id": "SNQBdkijbZ5_"
      },
      "execution_count": null,
      "outputs": []
    },
    {
      "cell_type": "markdown",
      "source": [
        "However, look at balance between those patients who recieved the new treatments (that attended hospital A) and those that didn't (that attended hospital B).\n",
        "\n",
        "Note to get the below table to render (TODO: figure out how to render directly in notebook) you need to copy the html output to the empty text box below the code snippet"
      ],
      "metadata": {
        "id": "PET4qDjWhPqf"
      }
    },
    {
      "cell_type": "code",
      "source": [
        "print(table1(~ age + sex + ps + stage | treat, patients))"
      ],
      "metadata": {
        "id": "Rk21Arqpha7U"
      },
      "execution_count": null,
      "outputs": []
    },
    {
      "cell_type": "markdown",
      "source": [
        "\n",
        "\n",
        "<table class=\"Rtable1\">\n",
        "<thead>\n",
        "<tr>\n",
        "<th class='rowlabel firstrow lastrow'></th>\n",
        "<th class='firstrow lastrow'><span class='stratlabel'>Intervention<br><span class='stratn'>(N=503)</span></span></th>\n",
        "<th class='firstrow lastrow'><span class='stratlabel'>Standard of Care<br><span class='stratn'>(N=497)</span></span></th>\n",
        "<th class='firstrow lastrow'><span class='stratlabel'>Overall<br><span class='stratn'>(N=1000)</span></span></th>\n",
        "</tr>\n",
        "</thead>\n",
        "<tbody>\n",
        "<tr>\n",
        "<td class='rowlabel firstrow'>age</td>\n",
        "<td class='firstrow'></td>\n",
        "<td class='firstrow'></td>\n",
        "<td class='firstrow'></td>\n",
        "</tr>\n",
        "<tr>\n",
        "<td class='rowlabel'>Mean (SD)</td>\n",
        "<td>66.2 (9.39)</td>\n",
        "<td>72.5 (9.13)</td>\n",
        "<td>69.3 (9.76)</td>\n",
        "</tr>\n",
        "<tr>\n",
        "<td class='rowlabel lastrow'>Median [Min, Max]</td>\n",
        "<td class='lastrow'>66.2 [37.5, 93.6]</td>\n",
        "<td class='lastrow'>72.7 [44.1, 96.6]</td>\n",
        "<td class='lastrow'>69.7 [37.5, 96.6]</td>\n",
        "</tr>\n",
        "<tr>\n",
        "<td class='rowlabel firstrow'>sex</td>\n",
        "<td class='firstrow'></td>\n",
        "<td class='firstrow'></td>\n",
        "<td class='firstrow'></td>\n",
        "</tr>\n",
        "<tr>\n",
        "<td class='rowlabel'>female</td>\n",
        "<td>199 (39.6%)</td>\n",
        "<td>195 (39.2%)</td>\n",
        "<td>394 (39.4%)</td>\n",
        "</tr>\n",
        "<tr>\n",
        "<td class='rowlabel lastrow'>male</td>\n",
        "<td class='lastrow'>304 (60.4%)</td>\n",
        "<td class='lastrow'>302 (60.8%)</td>\n",
        "<td class='lastrow'>606 (60.6%)</td>\n",
        "</tr>\n",
        "<tr>\n",
        "<td class='rowlabel firstrow'>ps</td>\n",
        "<td class='firstrow'></td>\n",
        "<td class='firstrow'></td>\n",
        "<td class='firstrow'></td>\n",
        "</tr>\n",
        "<tr>\n",
        "<td class='rowlabel'>0</td>\n",
        "<td>146 (29.0%)</td>\n",
        "<td>17 (3.4%)</td>\n",
        "<td>163 (16.3%)</td>\n",
        "</tr>\n",
        "<tr>\n",
        "<td class='rowlabel'>1</td>\n",
        "<td>246 (48.9%)</td>\n",
        "<td>153 (30.8%)</td>\n",
        "<td>399 (39.9%)</td>\n",
        "</tr>\n",
        "<tr>\n",
        "<td class='rowlabel'>2</td>\n",
        "<td>99 (19.7%)</td>\n",
        "<td>232 (46.7%)</td>\n",
        "<td>331 (33.1%)</td>\n",
        "</tr>\n",
        "<tr>\n",
        "<td class='rowlabel lastrow'>3</td>\n",
        "<td class='lastrow'>12 (2.4%)</td>\n",
        "<td class='lastrow'>95 (19.1%)</td>\n",
        "<td class='lastrow'>107 (10.7%)</td>\n",
        "</tr>\n",
        "<tr>\n",
        "<td class='rowlabel firstrow'>stage</td>\n",
        "<td class='firstrow'></td>\n",
        "<td class='firstrow'></td>\n",
        "<td class='firstrow'></td>\n",
        "</tr>\n",
        "<tr>\n",
        "<td class='rowlabel'>1</td>\n",
        "<td>319 (63.4%)</td>\n",
        "<td>90 (18.1%)</td>\n",
        "<td>409 (40.9%)</td>\n",
        "</tr>\n",
        "<tr>\n",
        "<td class='rowlabel'>2</td>\n",
        "<td>93 (18.5%)</td>\n",
        "<td>84 (16.9%)</td>\n",
        "<td>177 (17.7%)</td>\n",
        "</tr>\n",
        "<tr>\n",
        "<td class='rowlabel'>3</td>\n",
        "<td>74 (14.7%)</td>\n",
        "<td>255 (51.3%)</td>\n",
        "<td>329 (32.9%)</td>\n",
        "</tr>\n",
        "<tr>\n",
        "<td class='rowlabel lastrow'>4</td>\n",
        "<td class='lastrow'>17 (3.4%)</td>\n",
        "<td class='lastrow'>68 (13.7%)</td>\n",
        "<td class='lastrow'>85 (8.5%)</td>\n",
        "</tr>\n",
        "</tbody>\n",
        "</table>\n",
        "\n"
      ],
      "metadata": {
        "id": "-Tw-97ICZXyl"
      }
    },
    {
      "cell_type": "markdown",
      "source": [
        "Plotted as graphs"
      ],
      "metadata": {
        "id": "ZtQEh0LD3900"
      }
    },
    {
      "cell_type": "code",
      "source": [
        "p1 = ggplot(patients,aes(x=ps, group=treat, fill=treat)) +\n",
        "  geom_bar(stat='count',position='dodge')\n",
        "p2 = ggplot(patients,aes(x=age, group=treat, fill=treat)) +\n",
        "  geom_histogram(binwidth=2,position = 'identity',alpha=0.5)\n",
        "p3 = ggplot(patients,aes(x=stage, group=treat, fill=treat)) +\n",
        "  geom_bar(stat='count',position='dodge')\n",
        "p4 = ggplot(patients,aes(x=gtv, group=treat, fill=treat)) +\n",
        "  geom_histogram(binwidth=5,position = 'identity',alpha=0.5) +\n",
        "  xlim(0, 200)\n",
        "\n",
        "combined <- p1 + p2 +p3 + p4 & theme(legend.position = \"bottom\")\n",
        "combined + plot_layout(guides = \"collect\")"
      ],
      "metadata": {
        "id": "GLbdB-2K4AnL"
      },
      "execution_count": null,
      "outputs": []
    },
    {
      "cell_type": "markdown",
      "source": [
        "However, calculate the multivariable cox model and see what the regression coefficients say"
      ],
      "metadata": {
        "id": "r7NV2JTCbrkv"
      }
    },
    {
      "cell_type": "code",
      "source": [
        "hospitalCox = coxph(hospitalSurv~ age + sex + ps + stage + log(gtv) + treat, data=patients)\n",
        "summary(hospitalCox)"
      ],
      "metadata": {
        "id": "dKxb_EjIbvVx"
      },
      "execution_count": null,
      "outputs": []
    },
    {
      "cell_type": "markdown",
      "source": [
        "##Treatment assigned randomly to all patients\n",
        "In the next scenario, treatment is assigned randonly to all patients\n",
        "\n",
        "The randomisation balances the groups meaning the log-rank test results closely agree with the multivariable regression\n",
        "\n",
        "Create the new survival data"
      ],
      "metadata": {
        "id": "6S02Smwu5ySc"
      }
    },
    {
      "cell_type": "code",
      "source": [
        "patients$treat = rep('Standard of Care',nbrPats)\n",
        "patients$treat[which(runif(nbrPats)>0.5)]='Intervention'\n",
        "\n",
        "patients$treat_pi = log(patients$hr_treat) * (patients$treat == 'Intervention')\n",
        "patients$progInd = patients$baseProgInd + patients$treat_pi\n",
        "\n",
        "survProb = runif(nbrPats,0,1)\n",
        "patients$survTime = -log(survProb) / (h_0 * exp(patients$progInd))\n",
        "patients$vitalStatus = rbinom(n=nrow(patients), size=1, prob=0.9)"
      ],
      "metadata": {
        "id": "f7R9sFh-50wq"
      },
      "execution_count": null,
      "outputs": []
    },
    {
      "cell_type": "markdown",
      "source": [
        "Look at KM curve"
      ],
      "metadata": {
        "id": "oTRAkcHn8q83"
      }
    },
    {
      "cell_type": "code",
      "source": [
        "randSurv = Surv(patients$survTime,patients$vitalStatus)\n",
        "\n",
        "ggsurvfit(survfit2(randSurv~treat, data=patients), type = \"survival\") +\n",
        "  add_censor_mark() +\n",
        "  add_confidence_interval() +\n",
        "  add_risktable() +\n",
        "  coord_cartesian(xlim = c(0, 365 * 3)) +\n",
        "  add_pvalue(caption = \"Log-rank {p.value}\")\n"
      ],
      "metadata": {
        "id": "7RtD7TKT8t45"
      },
      "execution_count": null,
      "outputs": []
    },
    {
      "cell_type": "markdown",
      "source": [
        "Plot balance of groups"
      ],
      "metadata": {
        "id": "FXXWtx_beesu"
      }
    },
    {
      "cell_type": "code",
      "source": [
        "p1 = ggplot(patients,aes(x=ps, group=treat, fill=treat)) +\n",
        "  geom_bar(stat='count',position='dodge')\n",
        "p2 = ggplot(patients,aes(x=age, group=treat, fill=treat)) +\n",
        "  geom_histogram(binwidth=2,position = 'identity',alpha=0.5)\n",
        "p3 = ggplot(patients,aes(x=stage, group=treat, fill=treat)) +\n",
        "  geom_bar(stat='count',position='dodge')\n",
        "p4 = ggplot(patients,aes(x=gtv, group=treat, fill=treat)) +\n",
        "  geom_histogram(binwidth=5,position = 'identity',alpha=0.5) +\n",
        "  xlim(0, 200)\n",
        "\n",
        "combined <- p1 + p2 +p3 + p4 & theme(legend.position = \"bottom\")\n",
        "combined + plot_layout(guides = \"collect\")"
      ],
      "metadata": {
        "id": "hLPbJG7kegpU"
      },
      "execution_count": null,
      "outputs": []
    },
    {
      "cell_type": "markdown",
      "source": [
        "Check multi variable analysis"
      ],
      "metadata": {
        "id": "hqO0rKcXmkki"
      }
    },
    {
      "cell_type": "code",
      "source": [
        "randCox = coxph(randSurv~ age + sex + ps + stage + log(gtv) + treat, data=patients)\n",
        "summary(randCox)"
      ],
      "metadata": {
        "id": "tbtxbc-lmm9L"
      },
      "execution_count": null,
      "outputs": []
    },
    {
      "cell_type": "markdown",
      "source": [
        "##Randomisation with selection criteria\n",
        "In the final scenario we demonstrate why trials have selection criteria. As some patients respond differently to the new treatment, selection of only those patients expected to respond positively to the intervention can lead to more impressive results"
      ],
      "metadata": {
        "id": "mC9wLNrAtJR8"
      }
    },
    {
      "cell_type": "markdown",
      "source": [
        "Limit the treatment to those patients with\n",
        "* Performance status 0-1\n",
        "* Stage 1-3"
      ],
      "metadata": {
        "id": "C-8qBXnlvgoT"
      }
    },
    {
      "cell_type": "code",
      "source": [
        "patients_included = population %>%\n",
        "  dplyr::filter((ps == 0 | ps ==1) & (stage == 1 | stage == 2)) %>%\n",
        "  slice_sample(n=nbrPats)"
      ],
      "metadata": {
        "id": "fHWt3nSEvQFX"
      },
      "execution_count": null,
      "outputs": []
    },
    {
      "cell_type": "markdown",
      "source": [
        "Randomise this subset of patients and repeat the analysis"
      ],
      "metadata": {
        "id": "SsYHWOj1xbJl"
      }
    },
    {
      "cell_type": "code",
      "source": [
        "patients_included$treat = rep('Standard of Care',nbrPats)\n",
        "patients_included$treat[which(runif(nbrPats)>0.5)]='Intervention'\n",
        "\n",
        "patients_included$treat_pi = log(patients_included$hr_treat) * (patients_included$treat == 'Intervention')\n",
        "patients_included$progInd = patients_included$baseProgInd + patients_included$treat_pi\n",
        "\n",
        "survProb = runif(nbrPats,0,1)\n",
        "patients_included$survTime = -log(survProb) / (h_0 * exp(patients_included$progInd))\n",
        "patients_included$vitalStatus = rbinom(n=nbrPats, size=1, prob=0.9)"
      ],
      "metadata": {
        "id": "38LkA4CFxhup"
      },
      "execution_count": null,
      "outputs": []
    },
    {
      "cell_type": "markdown",
      "source": [
        "Look at KM curve and Cox regression, check cohort balance"
      ],
      "metadata": {
        "id": "Q3r9XqnZyBsL"
      }
    },
    {
      "cell_type": "code",
      "source": [
        "selectSurv = Surv(patients_included$survTime,patients_included$vitalStatus)\n",
        "\n",
        "ggsurvfit(survfit2(selectSurv~treat, data=patients_included), type = \"survival\") +\n",
        "  add_censor_mark() +\n",
        "  add_confidence_interval() +\n",
        "  add_risktable() +\n",
        "  coord_cartesian(xlim = c(0, 365 * 3)) +\n",
        "  add_pvalue(caption = \"Log-rank {p.value}\")"
      ],
      "metadata": {
        "id": "a37TK_ezyGpV"
      },
      "execution_count": null,
      "outputs": []
    },
    {
      "cell_type": "code",
      "source": [
        "selectCox = coxph(selectSurv~ age + sex + ps + stage + log(gtv) + treat, data=patients_included)\n",
        "summary(selectCox)"
      ],
      "metadata": {
        "id": "w56vWP0PcpmE"
      },
      "execution_count": null,
      "outputs": []
    }
  ]
}